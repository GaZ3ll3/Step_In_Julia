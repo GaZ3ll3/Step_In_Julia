{
 "metadata": {
  "language": "Julia",
  "name": "",
  "signature": "sha256:77eac1a0f9b4c06813a6c1f04138e84d02e77344da7da4f71a025e49a2df9297"
 },
 "nbformat": 3,
 "nbformat_minor": 0,
 "worksheets": [
  {
   "cells": [
    {
     "cell_type": "markdown",
     "metadata": {},
     "source": [
      "## Linear Algebra ##\n",
      "\n",
      "Linear algebra functions in ``Julia`` are largely implemented by calling functions from [LAPACK](http://www.netlib.org/lapack). Sparse factorizations call functions from SuiteSparse.\n",
      "\n",
      "### Matrices factorization ###\n",
      "\n",
      "\n",
      "For factorization algorithms, ``Julia`` has already implemented common routines as ``lu``, ``qr`` and ``chol``. The routines call ``LAPACK`` subroutines for decomposition algorithm in general. For example, ``lufact!`` calls ``LAPACK.getrf!`` to update matrices in place.\n",
      "\n",
      "``` \n",
      "    function lufact!{T<:BlasFloat}(A::StridedMatrix{T};  pivot = true)\n",
      "        !pivot && return generic_lufact!(A,pivot = pivot)\n",
      "        lpt =  LAPACK.getrf!(A)\n",
      "        return LU{T, typeof(A)}(lpt[1], lpt[2], lpt[3])\n",
      "    end\n",
      "```\n",
      "And ``LAPACK.getrf!`` calls ``getrf`` against the ``liblapack``.\n",
      "\n",
      "``` \n",
      "    ccall(($(string(getrf)), liblapack), Void, Ptr{BlasInt}, \n",
      "        Ptr{BlasInt}, Ptr{$elty}, Ptr{BlasInt}, Ptr{BlasInt},\n",
      "        Ptr{BlasInt}, &m, &n, A, &lda, ipiv, info)\n",
      "```\n",
      "\n",
      "### Eigenvalues & Singular Value ###\n",
      "\n",
      "The most common routines ``eig`` and ``svd`` call ``LAPACK.geevx!`` and ``LAPACK.gesdd!`` relatively. \n",
      "\n",
      "``svds`` does not exist but can be found with external package -- ``IterativeSolvers.jl``.\n",
      "\n",
      "#### Solve ``Ax == b`` ####\n",
      "\n",
      "Solving linear system involves [direct method](http://en.wikipedia.org/wiki/direct_method) and [iterative method](http://en.wikipedia.org/wiki/iterative_method).\n",
      "\n",
      "``Julia`` has built-in function ``\\(A,B)`` for solving linear system, which calls ``UMFPACK`` solver.\n",
      "\n",
      "For iterative methods, there are plenty of routines(preconditioned) to choose from, such as ``CG``, ``GMRES``, ``SOR``, ``SSOR``, ``Lanczos``.\n",
      "\n",
      "The above routines can be found through ``IterativeSolvers.jl`` for ``0.2.1-``. In this repository, we store our ``0.3.0+`` compatible routines in ``src`` directory, for example, following routines are stored in ``src/linalg/iterative``.  \n"
     ]
    },
    {
     "cell_type": "code",
     "collapsed": false,
     "input": [],
     "language": "python",
     "metadata": {},
     "outputs": []
    },
    {
     "cell_type": "code",
     "collapsed": false,
     "input": [],
     "language": "python",
     "metadata": {},
     "outputs": []
    }
   ],
   "metadata": {}
  }
 ]
}
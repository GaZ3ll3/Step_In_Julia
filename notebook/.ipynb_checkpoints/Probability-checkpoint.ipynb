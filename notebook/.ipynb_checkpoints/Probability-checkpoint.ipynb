{
 "metadata": {
  "language": "Julia",
  "name": "",
  "signature": "sha256:f0c8188a5f193de3e618ae6d32c403644b2f85b67c00a067e4fd7269c851bc25"
 },
 "nbformat": 3,
 "nbformat_minor": 0,
 "worksheets": [
  {
   "cells": [
    {
     "cell_type": "markdown",
     "metadata": {},
     "source": [
      "# Probability #"
     ]
    },
    {
     "cell_type": "markdown",
     "metadata": {},
     "source": [
      "For this chapter, we first continue with our unfinished topic on random numbers."
     ]
    },
    {
     "cell_type": "code",
     "collapsed": false,
     "input": [],
     "language": "python",
     "metadata": {},
     "outputs": []
    }
   ],
   "metadata": {}
  }
 ]
}
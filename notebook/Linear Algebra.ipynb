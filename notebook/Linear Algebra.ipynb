{
 "metadata": {
  "language": "Julia",
  "name": "",
  "signature": "sha256:98fa454c0cd6de7b35cda9ed3fb8f3f705bdf82f788d9f47f15e1623036f5373"
 },
 "nbformat": 3,
 "nbformat_minor": 0,
 "worksheets": [
  {
   "cells": [
    {
     "cell_type": "markdown",
     "metadata": {},
     "source": [
      "## Linear Algebra ##\n",
      "\n",
      "Linear algebra functions in ``Julia`` are largely implemented by calling functions from [LAPACK](http://www.netlib.org/lapack). Sparse factorizations call functions from SuiteSparse.\n",
      "\n",
      "### Matrices factorization ###\n",
      "\n",
      "\n",
      "For factorization algorithms, ``Julia`` has already implemented common routines as ``lu``, ``qr`` and ``chol``. The routines call ``LAPACK`` subroutines for decomposition algorithm in general. For example, ``lufact!`` calls ``LAPACK.getrf!`` to update matrices in place.\n",
      "\n",
      "``` \n",
      "    function lufact!{T<:BlasFloat}(A::StridedMatrix{T};  pivot = true)\n",
      "        !pivot && return generic_lufact!(A,pivot = pivot)\n",
      "        lpt =  LAPACK.getrf!(A)\n",
      "        return LU{T, typeof(A)}(lpt[1], lpt[2], lpt[3])\n",
      "    end\n",
      "```\n",
      "And ``LAPACK.getrf!`` calls ``getrf`` against the ``liblapack`` from ``GOTOBLAS2``.\n",
      "\n",
      "``` \n",
      "    ccall(($(string(getrf)), liblapack), Void, Ptr{BlasInt}, \n",
      "        Ptr{BlasInt}, Ptr{$elty}, Ptr{BlasInt}, Ptr{BlasInt},\n",
      "        Ptr{BlasInt}, &m, &n, A, &lda, ipiv, info)\n",
      "```\n",
      "\n",
      "The delaration of ``getrf``:\n",
      "\n",
      "**Fortran77:**\n",
      "\n",
      "``` fortran\n",
      "    call sgetrf( m, n, a, lda, ipiv, info )\n",
      "    call dgetrf( m, n, a, lda, ipiv, info )\n",
      "    call cgetrf( m, n, a, lda, ipiv, info )\n",
      "    call zgetrf( m, n, a, lda, ipiv, info )\n",
      "```\n",
      "**Fortran95:**\n",
      "\n",
      "``` fortran\n",
      "    call getrf(a [, ipiv] [, info])\n",
      "```\n",
      "**C:**\n",
      "```\n",
      "lapack_int LAPACKE_<?>getrf(int matrix_layout, lapack_int m, lapack_int n, <datatype>* a, lapack_int lda, lapack_int* ipiv);\n",
      "```\n",
      "\n",
      "### Pivoting ###\n",
      "\n",
      "Since ``lu`` normally take ``1/3 min(m,n)^2 (3 max(m,n) - min(m,n))`` flops to compute the factorization. We usually will consider using **partial** pivoting(``getrf``), which requires O(n^2) comparisons in total, when ``m = n ``. \n",
      "\n",
      "An expensive pivoting strategy is **complete** pivoting, we try to avoid using it, since it costs too many operations O(n^3) on comparisons, and the performance does not differ too much from partial pivot case in practice.\n",
      "\n",
      "There is another pivoting strategy between above two, which is call ``rook``. It keeps searching the pivot in current row and then search the pivot in the column of previous pivot and so on, until there is no more to search. This practically gives a reasonable reduce in comparison process, taking a tiny multiple of the cost of partial pivoting, and could get nearly complete pivoting performance. **Anyway**, ``rook`` can sometimes take O(n^3) comparisons.\n",
      "\n",
      "### Growth Factor ###\n",
      "\n",
      "``Growth factor`` is defined as tha ratio of maximal(in magnitude) element of result matrix at ``k``th stage and at ``0``th stage. And it is proved that the factor grows no faster than exponential.\n",
      "\n",
      "``Growth factor`` basically is a rule to judge whether pivoting method is good or not. \n"
     ]
    },
    {
     "cell_type": "code",
     "collapsed": false,
     "input": [],
     "language": "python",
     "metadata": {},
     "outputs": []
    },
    {
     "cell_type": "markdown",
     "metadata": {},
     "source": [
      "\n",
      "### Eigenvalues & Singular Value ###\n",
      "\n",
      "The most common routines ``eig`` and ``svd`` call ``LAPACK.geevx!`` and ``LAPACK.gesdd!`` relatively. \n",
      "\n",
      "``svds`` does not exist but can be found with external package -- ``IterativeSolvers.jl``.\n",
      "\n",
      "#### Solve ``Ax == b`` ####\n",
      "\n",
      "Solving linear system involves [direct method](http://en.wikipedia.org/wiki/direct_method) and [iterative method](http://en.wikipedia.org/wiki/iterative_method).\n",
      "\n",
      "``Julia`` has built-in function ``\\(A,B)`` for solving linear system, which calls ``UMFPACK`` solver.\n",
      "\n",
      "For iterative methods, there are plenty of routines(preconditioned) to choose from, such as ``CG``, ``GMRES``, ``SOR``, ``SSOR``, ``Lanczos``.\n",
      "\n",
      "The above routines can be found through ``IterativeSolvers.jl`` for ``0.2.1-``. In this repository, we store our ``0.3.0+`` compatible routines in ``src`` directory, for example, following routines are stored in ``src/linalg/iterative``.  \n"
     ]
    },
    {
     "cell_type": "code",
     "collapsed": false,
     "input": [],
     "language": "python",
     "metadata": {},
     "outputs": []
    }
   ],
   "metadata": {}
  }
 ]
}